{
 "cells": [
  {
   "cell_type": "markdown",
   "metadata": {
    "slideshow": {
     "slide_type": "slide"
    }
   },
   "source": [
    "# Assignment 3 - basic classifiers\n",
    "\n",
    "Math practice and coding application for main classifiers introduced in Chapter 3 of the Python machine learning book.\n",
    "\n",
    "### Huang Kai 3035086340"
   ]
  },
  {
   "cell_type": "markdown",
   "metadata": {
    "slideshow": {
     "slide_type": "subslide"
    }
   },
   "source": [
    "## Weighting\n",
    "\n",
    "Note that this assignment is more difficult than the previous ones, and thus has a higher weighting 3 and longer duration (3 weeks). Each one of the previous two assignments has a weighting 1.\n",
    "\n",
    "Specifically, the first 3 assignments contribute to your continuous assessment as follows:\n",
    "\n",
    "Assignment weights: $w_1 = 1, w_2 = 1, w_3 = 3$\n",
    "\n",
    "Assignment grades: $g_1, g_2, g_3$\n",
    "\n",
    "Weighted average: $\\frac{1}{\\sum_i w_i} \\times \\sum_i \\left(w_i \\times g_i \\right)$\n",
    "\n",
    "Future assignments will be added analogously."
   ]
  },
  {
   "cell_type": "markdown",
   "metadata": {
    "slideshow": {
     "slide_type": "slide"
    }
   },
   "source": [
    "# RBF kernel (20 points)\n",
    "\n",
    "Show that a Gaussian RBF kernel can be expressed as a dot product:\n",
    "$$\n",
    "K(\\mathbf{x}, \\mathbf{y}) \n",
    "= e^\\frac{-|\\mathbf{x} - \\mathbf{y}|^2}{2} \n",
    "= \\phi(\\mathbf{x})^T \\phi(\\mathbf{y})\n",
    "$$\n",
    "by spelling out the mapping function $\\phi$.\n",
    "\n",
    "For simplicity\n",
    "* you can assume both $\\mathbf{x}$ and $\\mathbf{y}$ are 2D vectors\n",
    "$\n",
    "x =\n",
    "\\begin{pmatrix}\n",
    "x_1 \\\\\n",
    "x_2\n",
    "\\end{pmatrix}\n",
    ", \\;\n",
    "y =\n",
    "\\begin{pmatrix}\n",
    "y_1 \\\\\n",
    "y_2\n",
    "\\end{pmatrix}\n",
    "$\n",
    "* we use a scalar unit variance here\n",
    "\n",
    "even though the proof can be extended for vectors $\\mathbf{x}$ $\\mathbf{y}$ and general covariance matrices.\n",
    "\n",
    "Hint: use Taylor series expansion of the exponential function"
   ]
  },
  {
   "cell_type": "markdown",
   "metadata": {},
   "source": [
    "## Q1 Solution: RBF kernel\n",
    "$$\n",
    "\\begin{align}\n",
    "K(\\mathbf{x}, \\mathbf{y}) \n",
    "&= e^\\frac{-|\\mathbf{x} - \\mathbf{y}|^2}{2}\n",
    "\\\\\n",
    "&= e^\\frac{-|(x_1-y_1, x_2-y_2)|^2}{2}\n",
    "\\\\\n",
    "&= e^\\frac{-(x_1-y_1)^2-(x_2-y_2)^2}{2}\n",
    "\\\\\n",
    "&= e^\\frac{-(x_1^2+x_2^2)-(y_1^2+y_2^2)+2(x_1y_1+x_2y_2)}{2}\n",
    "\\\\\n",
    "&= e^\\frac{-|\\mathbf{x}|^2}{2}e^\\frac{-|\\mathbf{y}|^2}{2}e^{\\mathbf{x}^T\\mathbf{y}}\n",
    "\\\\\n",
    "&= e^\\frac{-|\\mathbf{x}|^2}{2}e^\\frac{-|\\mathbf{y}|^2}{2} \\sum_{n=0}^{\\infty} \\frac {(\\mathbf{x}^T\\mathbf{y})^n}{n!}\n",
    "\\end{align}\n",
    "$$\n",
    "The last line above follows the Taylor Series Expansion of the exponential function.\n",
    "\n",
    "The $(\\mathbf{x}^T\\mathbf{y})^n$ term for each n is the kernel function of the polynomial kernel. We can use the Binomial Theorem to get the component entries:\n",
    "$$\n",
    "\\begin{align}\n",
    "(\\mathbf{x}^T\\mathbf{y})^n\n",
    "&= (x_1y_1+x_2y_2)^n\n",
    "\\\\\n",
    "&= \\sum_{i=0}^n \\binom{n}{i}(x_1y_1)^{n-i}(x_2y_2)^i\n",
    "\\\\\n",
    "&= \\sum_{i=0}^n \\binom{n}{i}x_1^{n-i}x_2^iy_1^{n-i}y_2^i\n",
    "\\end{align}\n",
    "$$\n",
    "Then, we can get the mapping function of the polynomial kernel of degree n. \n",
    "\n",
    "Let the mapping function be $\\varphi(x_1,x_2)$. It will have n entries in total.\n",
    "$$\n",
    "\\varphi(x_1,x_2) = [x_1^n,\\sqrt{\\binom{n}{1}}x_1^{n-1}x_2,\\sqrt{\\binom{n}{2}}x_1^{n-2}x_2^2,...,x_2^n]^T\n",
    "$$\n",
    "We can concatenate the entries of each degree polynomial kernel mapping function one after another to form the mapping function of the Gaussian RBF kernel that maps a 2D data to infinite dimensions. \n",
    "\n",
    "Finally, we can derive the mapping function of the Gaussian RBF kernel $\\phi$:\n",
    "$$\n",
    "\\begin{align}\n",
    "\\phi(\\mathbf{x})\n",
    "&=\\phi(x_1,x_2)\n",
    "\\\\\n",
    "&=e^{-\\frac{x_1^2+x_2^2}{2}}[1,\\sqrt{\\frac{1}{1!}}x_1,\\sqrt{\\frac{1}{1!}}x_2,\\sqrt{\\frac{1}{2!}}x_1^2,\\sqrt{\\frac{2}{2!}}x_1x_2, \\sqrt{\\frac{1}{2!}}x_2^2,\\sqrt{\\frac{1}{3!}}x_1^3,\\sqrt{\\frac{3}{3!}}x_1^2x_2,\\sqrt{\\frac{3}{3!}}x_2^1,\\sqrt{\\frac{1}{3!}}x_2^3,...\\sqrt{\\frac{\\binom{n}{i}}{n!}}x_1^ix_2^{n-i}...]^T\n",
    "\\end{align}\n",
    "$$"
   ]
  },
  {
   "cell_type": "markdown",
   "metadata": {
    "slideshow": {
     "slide_type": "slide"
    }
   },
   "source": [
    "# Kernel SVM complexity (10 points)\n",
    "\n",
    "How would the complexity (or number of parameters) of a kernel SVM change with the amount of training data, and why?\n",
    "Note that the answer may depend on the specific kernel used.\n",
    "Consider specifically the following types of kernels $K(\\mathbf{x}, \\mathbf{y})$.\n",
    "* linear:\n",
    "$$\n",
    "K\\left(\\mathbf{x}, \\mathbf{y}\\right) = \\mathbf{x}^T \\mathbf{y}\n",
    "$$\n",
    "* polynomial with degree $q$:\n",
    "$$\n",
    "K\\left(\\mathbf{x}, \\mathbf{y}\\right) =\n",
    "(\\mathbf{x}^T\\mathbf{y} + 1)^q\n",
    "$$\n",
    "* RBF with distance function $D$:\n",
    "$$\n",
    "K\\left(\\mathbf{x}, \\mathbf{y} \\right) = e^{-\\frac{D\\left(\\mathbf{x}, \\mathbf{y} \\right)}{2s^2}}\n",
    "$$\n"
   ]
  },
  {
   "cell_type": "markdown",
   "metadata": {},
   "source": [
    "## Q2 Solution: Kernel SVM complexity\n",
    "Suppose the shape of the training data gives $(\\mathbf{n},\\mathbf{m})$, namely there are $\\mathbf{n}$ samples of training data and each data sample has $\\mathbf{m}$ features. We consider the following three kernels:\n",
    "#### Linear Kernel:\n",
    "The linear kernel projects to a feature space of dimension $\\mathbf{m}$, namely the original space. Thus the number of parameters is linear.\n",
    "\n",
    "To compute the kernel function $K\\left(\\mathbf{x}, \\mathbf{y}\\right) = \\mathbf{x}^T \\mathbf{y}$ for each pair of data, complexity is $O(\\mathbf{m})$. Throughout the training, there are $O(\\mathbf{n}^2)$ pairs, the overall complexity of the Lagrangian multiplier process is $O(\\mathbf{m}\\mathbf{n}^2)$.\n",
    "\n",
    "#### Polynomial Kernel with degree q:\n",
    "The polynomial kernel projects to a new feature space of $\\mathbf{q}$ polynomial dimension with regard to $\\mathbf{m}$. Thus the number of parameters in polynomial.\n",
    "\n",
    "To compute the kernel function $K\\left(\\mathbf{x}, \\mathbf{y}\\right) = (\\mathbf{x}^T\\mathbf{y} + 1)^q$ for each pair of data, optimal complexity is approximately $O(\\mathbf{m}^{log{q}})$if we do the product in a recursive manner. Throughout the training, there are $O(\\mathbf{n}^2)$ pairs, the overall complexity of the Lagrangian multiplier process is $O(\\mathbf{m}^{log{q}}\\mathbf{n}^2)$.\n",
    "\n",
    "#### RBF Kernel with distance function D:\n",
    "The polynomial kernel projects to a new feature space of infinite dimensions. Thus the number of parameters tends to infinity.\n",
    "\n",
    "However, with the kernel trick, to compute the kernel function $K\\left(\\mathbf{x}, \\mathbf{y}\\right) = e^{-\\frac{D\\left(\\mathbf{x}, \\mathbf{y} \\right)}{2s^2}}$ for each pair of data, complexity is $O(\\mathbf{m})$if exponential calculation can be performed in constant time. Throughout the training, there are $O(\\mathbf{n}^2)$ pairs, the overall complexity of the Lagrangian multiplier process is $O(\\mathbf{m}\\mathbf{n}^2)$."
   ]
  },
  {
   "cell_type": "markdown",
   "metadata": {
    "slideshow": {
     "slide_type": "slide"
    }
   },
   "source": [
    "# Gaussian density Bayes (30 points)\n",
    "\n",
    "$$\n",
    "p\\left(\\Theta | \\mathbf{X}\\right)\n",
    "= \n",
    "\\frac{p\\left(\\mathbf{X} | \\Theta\\right) p\\left(\\Theta\\right)}{p\\left(\\mathbf{X}\\right)}\n",
    "$$\n",
    "\n",
    "Assume both the likelihood and prior have Gaussian distributions:\n",
    "\n",
    "$$\n",
    "\\begin{align}\n",
    "p(\\mathbf{X} | \\Theta)\n",
    "&=\n",
    "\\frac{1}{(2\\pi)^{N/2}\\sigma^N} \\exp\\left(-\\frac{\\sum_{t=1}^N (\\mathbf{x}^{(t)} - \\Theta)^2}{2\\sigma^2}\\right)\n",
    "\\\\\n",
    "p(\\Theta)\n",
    "&=\n",
    "\\frac{1}{\\sqrt{2\\pi}\\sigma_0} \\exp\\left( -\\frac{(\\Theta - \\mu_0)^2}{2\\sigma_0^2} \\right)\n",
    "\\end{align}\n",
    "$$\n",
    "\n",
    "Derive $\\Theta$ from the dataset $\\mathbf{X}$ via the following methods:\n",
    "\n",
    "### ML (maximum likelihood) estimation \n",
    "$$\n",
    "\\Theta_{ML} = argmax_{\\Theta} p(\\mathbf{X} | \\Theta)\n",
    "$$\n",
    "\n",
    "### MAP estimation\n",
    "$$\n",
    "\\begin{align}\n",
    "\\Theta_{MAP} \n",
    "&= \n",
    "argmax_{\\Theta} p(\\Theta | \\mathbf{X})\n",
    "\\\\\n",
    "&=\n",
    "argmax_{\\Theta} p(\\mathbf{X} | \\Theta) p(\\Theta)\n",
    "\\end{align}\n",
    "$$\n",
    "\n",
    "### Bayes estimation\n",
    "\n",
    "$$\n",
    "\\begin{align}\n",
    "\\Theta_{Bayes} \n",
    "&= \n",
    "E(\\Theta | \\mathbf{X})\n",
    "\\\\\n",
    "&= \n",
    "\\int \\Theta p(\\Theta | \\mathbf{X}) d\\Theta\n",
    "\\end{align}\n",
    "$$"
   ]
  },
  {
   "cell_type": "markdown",
   "metadata": {
    "slideshow": {
     "slide_type": "fragment"
    }
   },
   "source": [
    "## Q3 Solution: Gaussian density Bayes\n",
    "\n",
    "### 1. ML (maximum likelihood) estimation\n",
    "We have the following:\n",
    "$$\n",
    "\\Theta_{ML} = argmax_{\\Theta} p(\\mathbf{X} | \\Theta)\n",
    "\\\\\n",
    "p(\\mathbf{X} | \\Theta) = \\frac{1}{(2\\pi)^{N/2}\\sigma^N} \\exp\\left(-\\frac{\\sum_{t=1}^N (\\mathbf{x}^{(t)} - \\Theta)^2}{2\\sigma^2}\\right)\n",
    "$$\n",
    "To find the $\\Theta$ that maximizes $p(\\mathbf{X} | \\Theta)$, by taking the negative logarithm on both sides, it is equivalent to find the $\\Theta$ that minimizes the following $f(\\mathbf{X}, \\Theta)$ given the dataset $\\mathbf{X}$:\n",
    "$$\n",
    "f(\\mathbf{X}, \\Theta) = \\sum_{t=1}^N (\\mathbf{x}^{(t)} - \\Theta)^2\n",
    "$$\n",
    "We can take the derivative of $f(\\mathbf{X}, \\Theta)$ with regard to $\\Theta$ and set it to be 0 to find the $\\Theta_{ML}$ that minimizes it:\n",
    "$$\n",
    "\\frac{\\partial f(\\mathbf{X}, \\Theta)}{\\partial \\Theta} = -2\\sum_{t=1}^N (\\mathbf{x}^{(t)} - \\Theta) = 0\n",
    "$$\n",
    "By solving the above equation, we get:\n",
    "$$\n",
    "\\Theta_{ML} = \\mathbf{m} = \\frac {\\sum_{t=1}^N \\mathbf{x}^{(t)}} {N}\n",
    "$$\n",
    "\n",
    "### 2. MAP estimation\n",
    "We have the following:\n",
    "$$\n",
    "\\begin{align}\n",
    "\\Theta_{MAP} \n",
    "&= \n",
    "argmax_{\\Theta} p(\\Theta | \\mathbf{X})\n",
    "\\\\\n",
    "&=\n",
    "argmax_{\\Theta} p(\\mathbf{X} | \\Theta) p(\\Theta)\n",
    "\\end{align}\n",
    "\\\\\n",
    "p(\\mathbf{X} | \\Theta) p(\\Theta) = \\frac{1}{(2\\pi)^{N/2}\\sigma^N} \\frac{1}{\\sqrt{2\\pi}\\sigma_0} \\exp\\left(-\\frac{\\sum_{t=1}^N (\\mathbf{x}^{(t)} - \\Theta)^2}{2\\sigma^2}\\right) \\exp\\left( -\\frac{(\\Theta - \\mu_0)^2}{2\\sigma_0^2} \\right)\n",
    "$$\n",
    "To find the $\\Theta$ that maximizes $p(\\mathbf{X} | \\Theta) p(\\Theta)$, by taking the negative logarithm on both sides, it is equivalent to find the $\\Theta$ that minimizes the following $g(\\mathbf{X}, \\Theta)$ given the dataset $\\mathbf{X}$:\n",
    "$$\n",
    "g(\\mathbf{X}, \\Theta) = \\frac{\\sum_{t=1}^N (\\mathbf{x}^{(t)} - \\Theta)^2} {2\\sigma^2} + \\frac{(\\Theta - \\mu_0)^2}{2\\sigma_0^2}\n",
    "$$\n",
    "We can take the derivative of $g(\\mathbf{X}, \\Theta)$ with regard to $\\Theta$ and set it to be 0 to find the $\\Theta_{MAP}$ that minimizes it:\n",
    "$$\n",
    "\\frac{\\partial g(\\mathbf{X}, \\Theta)}{\\partial \\Theta} = \\frac{1}{2\\sigma^2\\sigma_0^2} (2\\sigma_0^2 \\sum_{t=1}^N (\\Theta - \\mathbf{x}^{(t)}) + 2\\sigma^2 (\\Theta - \\mu_0)) = 0\n",
    "$$\n",
    "By solving the above equation, we get:\n",
    "$$\n",
    "\\Theta_{MAP} = \\frac{2\\sigma^2\\mu_0+2\\sigma_0^2\\sum_{t=1}^N \\mathbf{x}^{(t)}}{2\\sigma^2+2\\sigma_0^2N}\n",
    "\\\\\n",
    "= \\frac{\\sigma_0^2N}{\\sigma^2+\\sigma_0^2N} \\frac{\\sum_{t=1}^N \\mathbf{x}^{(t)}}{N}+ \\frac{\\sigma^2\\mu_0}{\\sigma^2+\\sigma_0^2N}\n",
    "\\\\\n",
    "= \\frac{N/\\sigma^2}{N/\\sigma^2+1/\\sigma_0^2}\\mathbf{m} + \\frac{1/\\sigma_0^2}{1/\\sigma_0^2+N/\\sigma^2}\n",
    "$$\n",
    "Thus, we reach the conclusion:\n",
    "$$\n",
    "\\Theta_{MAP} = \\frac{N/\\sigma^2}{N/\\sigma^2+1/\\sigma_0^2}\\mathbf{m} + \\frac{1/\\sigma_0^2}{1/\\sigma_0^2+N/\\sigma^2}\n",
    "$$\n",
    "where $\\mathbf{m}=\\Theta_{ML}$ in the maximum likelihood estimation.\n",
    "\n",
    "### 3. Bayes estimation\n",
    "Since we have $\\Theta_{Bayes} = E(\\Theta | \\mathbf{X})$, we need to find the expectation of $\\Theta$ given $\\mathbf{X}$. We first consider its density distribution function:\n",
    "$$\n",
    "p(\\Theta | \\mathbf{X}) = p(\\mathbf{X} | \\Theta) p(\\Theta)\n",
    "$$\n",
    "Both $p(\\mathbf{X} | \\Theta)$ and $p(\\Theta)$ have Gaussian density distribution, then $p(\\Theta | \\mathbf{X})$, namely the product of them, also has Gaussian density distribution.\n",
    "Since for the Gaussian Distribution, its expectation/mean has the largest value of density distribution, to find $E(\\Theta | \\mathbf{X})$ is equivalent to find $argmax_{\\Theta} p(\\mathbf{X} | \\Theta) p(\\Theta)$. That is to say, Bayes estimation and MAP estimation will lead to the same result.\n",
    "Therefore, we get:\n",
    "$$\n",
    "\\Theta_{Bayes} = \\Theta_{MAP} = \\frac{N/\\sigma^2}{N/\\sigma^2+1/\\sigma_0^2}\\mathbf{m} + \\frac{1/\\sigma_0^2}{1/\\sigma_0^2+N/\\sigma^2}\n",
    "$$\n",
    "where $\\mathbf{m}=\\Theta_{ML}$ in the maximum likelihood estimation."
   ]
  },
  {
   "cell_type": "markdown",
   "metadata": {
    "slideshow": {
     "slide_type": "slide"
    }
   },
   "source": [
    "# Hand-written digit classification (40 points)\n",
    "\n",
    "In the textbook sample code we applied different scikit-learn classifers for the Iris data set.\n",
    "\n",
    "In this exercise, we will apply the same set of classifiers over a different data set: hand-written digits.\n",
    "Please write down the code for different classifiers, choose their hyper-parameters, and compare their performance via the accuracy score as in the Iris dataset.\n",
    "Which classifier(s) perform(s) the best and worst, and why?\n",
    "\n",
    "The classifiers include:\n",
    "* perceptron\n",
    "* logistic regression\n",
    "* SVM\n",
    "* decision tree\n",
    "* random forest\n",
    "* KNN\n",
    "* naive Bayes\n",
    "\n",
    "The dataset is available as part of scikit learn, as follows."
   ]
  },
  {
   "cell_type": "markdown",
   "metadata": {
    "slideshow": {
     "slide_type": "fragment"
    }
   },
   "source": [
    "## Load data"
   ]
  },
  {
   "cell_type": "code",
   "execution_count": 2,
   "metadata": {
    "collapsed": false,
    "slideshow": {
     "slide_type": "fragment"
    }
   },
   "outputs": [
    {
     "name": "stdout",
     "output_type": "stream",
     "text": [
      "(1797, 64)\n",
      "(1797,)\n"
     ]
    }
   ],
   "source": [
    "from sklearn.datasets import load_digits\n",
    "digits = load_digits()\n",
    "\n",
    "X = digits.data # training data\n",
    "y = digits.target # training label\n",
    "\n",
    "print(X.shape)\n",
    "print(y.shape)"
   ]
  },
  {
   "cell_type": "markdown",
   "metadata": {
    "slideshow": {
     "slide_type": "fragment"
    }
   },
   "source": [
    "## Visualize data"
   ]
  },
  {
   "cell_type": "code",
   "execution_count": 3,
   "metadata": {
    "collapsed": false,
    "slideshow": {
     "slide_type": "fragment"
    }
   },
   "outputs": [
    {
     "data": {
      "text/plain": [
       "<matplotlib.figure.Figure at 0x1851ef1a9b0>"
      ]
     },
     "metadata": {},
     "output_type": "display_data"
    },
    {
     "data": {
      "image/png": "[encoded data removed]",
      "text/plain": [
       "<matplotlib.figure.Figure at 0x1851d211f28>"
      ]
     },
     "metadata": {},
     "output_type": "display_data"
    }
   ],
   "source": [
    "%matplotlib inline\n",
    "import pylab as pl\n",
    "\n",
    "index = 12\n",
    "pl.gray()\n",
    "pl.matshow(digits.images[index])\n",
    "pl.title('digit ' + str(digits.target[index]))\n",
    "pl.show()"
   ]
  },
  {
   "cell_type": "code",
   "execution_count": 4,
   "metadata": {
    "collapsed": false
   },
   "outputs": [
    {
     "data": {
      "image/png": "[encoded data removed]",
      "text/plain": [
       "<matplotlib.figure.Figure at 0x1851fb31940>"
      ]
     },
     "metadata": {},
     "output_type": "display_data"
    }
   ],
   "source": [
    "import matplotlib.pyplot as plt\n",
    "import pylab as pl\n",
    "\n",
    "num_rows = 4\n",
    "num_cols = 5\n",
    "\n",
    "fig, ax = plt.subplots(nrows=num_rows, ncols=num_cols, sharex=True, sharey=True)\n",
    "ax = ax.flatten()\n",
    "for index in range(num_rows*num_cols):\n",
    "    img = digits.images[index]\n",
    "    label = digits.target[index]\n",
    "    ax[index].imshow(img, cmap='Greys', interpolation='nearest')\n",
    "    ax[index].set_title('digit ' + str(label))\n",
    "\n",
    "ax[0].set_xticks([])\n",
    "ax[0].set_yticks([])\n",
    "plt.tight_layout()\n",
    "plt.show()"
   ]
  },
  {
   "cell_type": "markdown",
   "metadata": {
    "slideshow": {
     "slide_type": "fragment"
    }
   },
   "source": [
    "## Date Preprocessing\n",
    "Hint: How you divide training and test data set? And apply other techinques we have learned if needed.\n",
    "You could take a look at the Iris data set case in the textbook."
   ]
  },
  {
   "cell_type": "code",
   "execution_count": 5,
   "metadata": {
    "collapsed": false,
    "slideshow": {
     "slide_type": "fragment"
    }
   },
   "outputs": [
    {
     "name": "stdout",
     "output_type": "stream",
     "text": [
      "training: 1257, test: 540\n"
     ]
    }
   ],
   "source": [
    "#Your code comes here\n",
    "#I use sklearn version 0.18 so I just import from sklearn.model_selection instead of sklearn.cross_validation\n",
    "from sklearn.model_selection import train_test_split\n",
    "# splitting data into 70% training and 30% test data: \n",
    "X_train, X_test, y_train, y_test = train_test_split(\n",
    "    X, y, test_size=0.3, random_state=0)\n",
    "\n",
    "num_training = y_train.shape[0]\n",
    "num_test = y_test.shape[0]\n",
    "print('training: ' + str(num_training) + ', test: ' + str(num_test))\n",
    "\n",
    "#Data scaling\n",
    "from sklearn.preprocessing import StandardScaler\n",
    "sc = StandardScaler()\n",
    "sc.fit(X_train)\n",
    "X_train_std = sc.transform(X_train)\n",
    "X_test_std = sc.transform(X_test)"
   ]
  },
  {
   "cell_type": "markdown",
   "metadata": {
    "slideshow": {
     "slide_type": "fragment"
    }
   },
   "source": [
    "## Classifier #1 Perceptron"
   ]
  },
  {
   "cell_type": "code",
   "execution_count": 6,
   "metadata": {
    "collapsed": false,
    "scrolled": true,
    "slideshow": {
     "slide_type": "fragment"
    }
   },
   "outputs": [
    {
     "name": "stdout",
     "output_type": "stream",
     "text": [
      "Misclassified samples: 39 out of 540\n",
      "Accuracy: 0.93\n"
     ]
    }
   ],
   "source": [
    "#Your code, including traing and testing, to observe the accuracies.\n",
    "from sklearn.linear_model import Perceptron\n",
    "\n",
    "#Training\n",
    "ppn = Perceptron(n_iter=40, eta0=0.1, random_state=0)\n",
    "ppn.fit(X_train_std, y_train)\n",
    "#Testing\n",
    "y_pred = ppn.predict(X_test_std)\n",
    "print('Misclassified samples: %d out of %d' % ((y_test != y_pred).sum(), y_test.shape[0]))\n",
    "\n",
    "from sklearn.metrics import accuracy_score\n",
    "print('Accuracy: %.2f' % accuracy_score(y_test, y_pred))"
   ]
  },
  {
   "cell_type": "markdown",
   "metadata": {
    "slideshow": {
     "slide_type": "fragment"
    }
   },
   "source": [
    "## Classifier #2 Logistic Regression"
   ]
  },
  {
   "cell_type": "code",
   "execution_count": 7,
   "metadata": {
    "collapsed": false,
    "slideshow": {
     "slide_type": "fragment"
    }
   },
   "outputs": [
    {
     "name": "stdout",
     "output_type": "stream",
     "text": [
      "Misclassified samples: 35 out of 540\n",
      "Accuracy: 0.94\n"
     ]
    }
   ],
   "source": [
    "#Your code, including traing and testing, to observe the accuracies.\n",
    "from sklearn.linear_model import LogisticRegression\n",
    "\n",
    "#Training\n",
    "lr = LogisticRegression(C=1000.0, random_state=0)\n",
    "lr.fit(X_train_std, y_train)\n",
    "#Testing\n",
    "y_pred = lr.predict(X_test_std)\n",
    "print('Misclassified samples: %d out of %d' % ((y_test != y_pred).sum(), y_test.shape[0]))\n",
    "\n",
    "from sklearn.metrics import accuracy_score\n",
    "print('Accuracy: %.2f' % accuracy_score(y_test, y_pred))"
   ]
  },
  {
   "cell_type": "markdown",
   "metadata": {
    "slideshow": {
     "slide_type": "fragment"
    }
   },
   "source": [
    "## Classifier #3 SVM"
   ]
  },
  {
   "cell_type": "code",
   "execution_count": 21,
   "metadata": {
    "collapsed": false,
    "slideshow": {
     "slide_type": "fragment"
    }
   },
   "outputs": [
    {
     "name": "stdout",
     "output_type": "stream",
     "text": [
      "Misclassified samples using Linear Kernel: 16 out of 540\n",
      "Accuracy using Linear Kernel: 0.97\n",
      "Misclassified samples using Polynomial Kernel: 6 out of 540\n",
      "Accuracy using Polynomial Kernel: 0.99\n",
      "Misclassified samples using RBF Kernel: 28 out of 540\n",
      "Accuracy using RBF Kernel: 0.95\n",
      "Misclassified samples using Sigmoid Kernel: 19 out of 540\n",
      "Accuracy using Sigmoid Kernel: 0.96\n",
      "\n",
      "If we use data without normalization, we can get the following results:\n",
      "\n",
      "Misclassified samples using Linear Kernel: 14 out of 540\n",
      "Accuracy using Linear Kernel: 0.97\n",
      "Misclassified samples using Polynomial Kernel: 11 out of 540\n",
      "Accuracy using Polynomial Kernel: 0.98\n",
      "Misclassified samples using RBF Kernel: 89 out of 540\n",
      "Accuracy using RBF Kernel: 0.84\n",
      "Misclassified samples using Sigmoid Kernel: 179 out of 540\n",
      "Accuracy using Sigmoid Kernel: 0.67\n"
     ]
    }
   ],
   "source": [
    "#Your code, including traing and testing, to observe the accuracies.\n",
    "from sklearn.svm import SVC\n",
    "\n",
    "#Linear Kernel\n",
    "#Training\n",
    "svm = SVC(kernel='linear', random_state=0, gamma=0.2, C=1.0)\n",
    "svm.fit(X_train_std, y_train)\n",
    "#Testing\n",
    "y_pred = svm.predict(X_test_std)\n",
    "print('Misclassified samples using Linear Kernel: %d out of %d' % ((y_test != y_pred).sum(), y_test.shape[0]))\n",
    "\n",
    "from sklearn.metrics import accuracy_score\n",
    "print('Accuracy using Linear Kernel: %.2f' % accuracy_score(y_test, y_pred))\n",
    "\n",
    "#Polynomial Kernel\n",
    "svm = SVC(kernel='poly', random_state=0, gamma=0.2, C=1.0)\n",
    "svm.fit(X_train_std, y_train)\n",
    "y_pred = svm.predict(X_test_std)\n",
    "print('Misclassified samples using Polynomial Kernel: %d out of %d' % ((y_test != y_pred).sum(), y_test.shape[0]))\n",
    "print('Accuracy using Polynomial Kernel: %.2f' % accuracy_score(y_test, y_pred))\n",
    "\n",
    "#RBF Kernel\n",
    "svm = SVC(kernel='rbf', random_state=0, gamma=0.1, C=1.0)\n",
    "svm.fit(X_train_std, y_train)\n",
    "y_pred = svm.predict(X_test_std)\n",
    "print('Misclassified samples using RBF Kernel: %d out of %d' % ((y_test != y_pred).sum(), y_test.shape[0]))\n",
    "print('Accuracy using RBF Kernel: %.2f' % accuracy_score(y_test, y_pred))\n",
    "\n",
    "#Sigmoid Kernel\n",
    "svm = SVC(kernel='sigmoid', random_state=0, gamma=0.01, C=1.0)\n",
    "svm.fit(X_train_std, y_train)\n",
    "y_pred = svm.predict(X_test_std)\n",
    "print('Misclassified samples using Sigmoid Kernel: %d out of %d' % ((y_test != y_pred).sum(), y_test.shape[0]))\n",
    "print('Accuracy using Sigmoid Kernel: %.2f' % accuracy_score(y_test, y_pred))\n",
    "\n",
    "#Use data without normalization\n",
    "print('\\nIf we use data without normalization, we can get the following results:\\n')\n",
    "#Linear Kernel\n",
    "svm = SVC(kernel='linear', random_state=0, gamma=0.2, C=1.0)\n",
    "svm.fit(X_train, y_train)\n",
    "y_pred = svm.predict(X_test)\n",
    "print('Misclassified samples using Linear Kernel: %d out of %d' % ((y_test != y_pred).sum(), y_test.shape[0]))\n",
    "from sklearn.metrics import accuracy_score\n",
    "print('Accuracy using Linear Kernel: %.2f' % accuracy_score(y_test, y_pred))\n",
    "\n",
    "#Polynomial Kernel\n",
    "svm = SVC(kernel='poly', random_state=0, gamma=0.2, C=1.0)\n",
    "svm.fit(X_train, y_train)\n",
    "y_pred = svm.predict(X_test)\n",
    "print('Misclassified samples using Polynomial Kernel: %d out of %d' % ((y_test != y_pred).sum(), y_test.shape[0]))\n",
    "print('Accuracy using Polynomial Kernel: %.2f' % accuracy_score(y_test, y_pred))\n",
    "\n",
    "#RBF Kernel\n",
    "svm = SVC(kernel='rbf', random_state=0, gamma=0.01, C=1.0)\n",
    "svm.fit(X_train, y_train)\n",
    "y_pred = svm.predict(X_test)\n",
    "print('Misclassified samples using RBF Kernel: %d out of %d' % ((y_test != y_pred).sum(), y_test.shape[0]))\n",
    "print('Accuracy using RBF Kernel: %.2f' % accuracy_score(y_test, y_pred))\n",
    "\n",
    "#Sigmoid Kernel\n",
    "svm = SVC(kernel='sigmoid', random_state=0, gamma=0.001, C=1.0)\n",
    "svm.fit(X_train, y_train)\n",
    "y_pred = svm.predict(X_test)\n",
    "print('Misclassified samples using Sigmoid Kernel: %d out of %d' % ((y_test != y_pred).sum(), y_test.shape[0]))\n",
    "print('Accuracy using Sigmoid Kernel: %.2f' % accuracy_score(y_test, y_pred))"
   ]
  },
  {
   "cell_type": "markdown",
   "metadata": {
    "slideshow": {
     "slide_type": "fragment"
    }
   },
   "source": [
    "## Classifier #4 Decision Tree"
   ]
  },
  {
   "cell_type": "code",
   "execution_count": 22,
   "metadata": {
    "collapsed": false,
    "slideshow": {
     "slide_type": "fragment"
    }
   },
   "outputs": [
    {
     "name": "stdout",
     "output_type": "stream",
     "text": [
      "Misclassified samples: 71 out of 540\n",
      "Accuracy: 0.87\n"
     ]
    }
   ],
   "source": [
    "#Your code, including traing and testing, to observe the accuracies.\n",
    "from sklearn.tree import DecisionTreeClassifier\n",
    "\n",
    "#Training. For Decision Tree, just use original data without normalization.\n",
    "#Here to increase accuracy, I don't restrict the maximum depth to 3.\n",
    "tree = DecisionTreeClassifier(criterion='entropy', random_state=0)\n",
    "tree.fit(X_train, y_train)\n",
    "#Testing\n",
    "y_pred = tree.predict(X_test)\n",
    "print('Misclassified samples: %d out of %d' % ((y_test != y_pred).sum(), y_test.shape[0]))\n",
    "\n",
    "from sklearn.metrics import accuracy_score\n",
    "print('Accuracy: %.2f' % accuracy_score(y_test, y_pred))"
   ]
  },
  {
   "cell_type": "markdown",
   "metadata": {
    "slideshow": {
     "slide_type": "fragment"
    }
   },
   "source": [
    "## Classifer #5 Random Forest"
   ]
  },
  {
   "cell_type": "code",
   "execution_count": 23,
   "metadata": {
    "collapsed": false
   },
   "outputs": [
    {
     "name": "stdout",
     "output_type": "stream",
     "text": [
      "Misclassified samples: 19 out of 540\n",
      "Accuracy: 0.96\n"
     ]
    }
   ],
   "source": [
    "#Your code, including traing and testing, to observe the accuracies.\n",
    "from sklearn.ensemble import RandomForestClassifier\n",
    "\n",
    "#Training. For Random Forest, just use original data without normalization.\n",
    "forest = RandomForestClassifier(criterion='entropy',\n",
    "                                n_estimators=20, \n",
    "                                random_state=1,\n",
    "                                n_jobs=2)\n",
    "forest.fit(X_train, y_train)\n",
    "#Testing\n",
    "y_pred = forest.predict(X_test)\n",
    "print('Misclassified samples: %d out of %d' % ((y_test != y_pred).sum(), y_test.shape[0]))\n",
    "\n",
    "from sklearn.metrics import accuracy_score\n",
    "print('Accuracy: %.2f' % accuracy_score(y_test, y_pred))"
   ]
  },
  {
   "cell_type": "markdown",
   "metadata": {
    "slideshow": {
     "slide_type": "fragment"
    }
   },
   "source": [
    "## Classifier #6 KNN"
   ]
  },
  {
   "cell_type": "code",
   "execution_count": 26,
   "metadata": {
    "collapsed": false
   },
   "outputs": [
    {
     "name": "stdout",
     "output_type": "stream",
     "text": [
      "Misclassified samples: 29 out of 540\n",
      "Accuracy: 0.95\n"
     ]
    }
   ],
   "source": [
    "#Your code, including traing and testing, to observe the accuracies.\n",
    "from sklearn.neighbors import KNeighborsClassifier\n",
    "\n",
    "#Training\n",
    "knn = KNeighborsClassifier(n_neighbors=25, p=2, metric='minkowski')\n",
    "knn.fit(X_train_std, y_train)\n",
    "#Testing\n",
    "y_pred = knn.predict(X_test_std)\n",
    "print('Misclassified samples: %d out of %d' % ((y_test != y_pred).sum(), y_test.shape[0]))\n",
    "\n",
    "from sklearn.metrics import accuracy_score\n",
    "print('Accuracy: %.2f' % accuracy_score(y_test, y_pred))"
   ]
  },
  {
   "cell_type": "markdown",
   "metadata": {
    "slideshow": {
     "slide_type": "fragment"
    }
   },
   "source": [
    "## Classifier #7 Naive Bayes"
   ]
  },
  {
   "cell_type": "code",
   "execution_count": 27,
   "metadata": {
    "collapsed": false
   },
   "outputs": [
    {
     "name": "stdout",
     "output_type": "stream",
     "text": [
      "Misclassified samples: 125 out of 540\n",
      "Accuracy: 0.77\n"
     ]
    }
   ],
   "source": [
    "#Your code, including traing and testing, to observe the accuracies.\n",
    "from sklearn.naive_bayes import GaussianNB\n",
    "\n",
    "#Training\n",
    "gnb = GaussianNB()\n",
    "gnb.fit(X_train_std, y_train)\n",
    "#Testing\n",
    "y_pred = gnb.predict(X_test_std)\n",
    "print('Misclassified samples: %d out of %d' % ((y_test != y_pred).sum(), y_test.shape[0]))\n",
    "\n",
    "from sklearn.metrics import accuracy_score\n",
    "print('Accuracy: %.2f' % accuracy_score(y_test, y_pred))"
   ]
  },
  {
   "cell_type": "markdown",
   "metadata": {
    "collapsed": true
   },
   "source": [
    "# Observations\n",
    "For each classifier, I adjusted the hyper-parameter to get a relatively better accuracy.\n",
    "\n",
    "After comparing the accuracies printed above, Polynomial Kernel SVM has the best accuracy. This is probably because for the polynomial kernel function, data are mapped to a higher outer space that appropriately fits the data to be separated without causing overfit.\n",
    "Besides, Random Forest and KNN have good accuracy as well.\n",
    "Naive Bayes has the worst accuracy possibly due to the reason that it assumes that the features are independent for the likelihood. However, in this case, the pixels of a digit are actually dependent of each other and thus this causes potential misclassifications.\n",
    "\n",
    "I also observed that the performance of different SVMs varies a lot and the choice of gamma value influences the accuracy greatly. In addition, standardized data will result in a higher accuracy for SVM."
   ]
  }
 ],
 "metadata": {
  "anaconda-cloud": {},
  "celltoolbar": "Slideshow",
  "kernelspec": {
   "display_name": "Python [default]",
   "language": "python",
   "name": "python3"
  },
  "language_info": {
   "codemirror_mode": {
    "name": "ipython",
    "version": 3
   },
   "file_extension": ".py",
   "mimetype": "text/x-python",
   "name": "python",
   "nbconvert_exporter": "python",
   "pygments_lexer": "ipython3",
   "version": "3.5.2"
  }
 },
 "nbformat": 4,
 "nbformat_minor": 0
}
