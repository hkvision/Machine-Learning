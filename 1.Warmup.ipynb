{
 "cells": [
  {
   "cell_type": "markdown",
   "metadata": {
    "slideshow": {
     "slide_type": "slide"
    }
   },
   "source": [
    "# Python + ipynb\n",
    "\n",
    "The goal of this assignment is to learn/review python and ipynb.\n",
    "Python is a popular programming language, and also interfaced for several machine learning libraries, such as scikit-learn, Theano, and TensorFlow.\n",
    "Ipynb is a digital notebook format that allows flexible incorporation of a variety of information, such as code (e.g. python), data, text (e.g. markdown, html, and Latex), images (common raster/vector graphics formats such as jpg and svg), and video (e.g. youtube).\n",
    "We can also run code and experiments directly inside ipynbs.\n",
    "Thus, we will use ipynb for all assignments in this class.\n",
    "\n",
    "# Sorting \n",
    "\n",
    "As a starting exercise, let's try to implement a sorting function via python.\n",
    "The input to the function is a python array consisting of an arbitrary sequence of numbers.\n",
    "The output is a sorted sequence with numbers ranging from small to large.\n",
    "The code stub, along with the test driver, are shown below.\n",
    "\n",
    "There are various algorithms for sorting with different time complexities with respect to the array size $N$, e.g. $O(N^2)$ for bubble sort and $O(Nlog(N))$ for quick sort.\n",
    "You can choose any algorithm to implement, as long as it produces correct results with reasonable run-time.\n",
    "\n",
    "Please submit a single ipynb file, consisting of python code in a code cell and descriptions (including algorithm and analysis of complexity) in a markdown cell.\n",
    "You can use this ipynb as a start, or create your own."
   ]
  },
  {
   "cell_type": "markdown",
   "metadata": {
    "slideshow": {
     "slide_type": "subslide"
    }
   },
   "source": [
    "## Code (20 points)"
   ]
  },
  {
   "cell_type": "code",
   "execution_count": 1,
   "metadata": {
    "collapsed": false,
    "slideshow": {
     "slide_type": "fragment"
    }
   },
   "outputs": [],
   "source": [
    "# the function\n",
    "def sort(values):\n",
    "    # insert your code here\n",
    "    for i in range(len(values) , 2, -1):\n",
    "        for j in range(0, i-1):\n",
    "            #If two adjacent numbers are not in the correct order, swap them.\n",
    "            if values[j] > values[j + 1]:\n",
    "                values[j], values[j + 1] = values[j + 1], values[j]\n",
    "    return values\n",
    "\n",
    "#For descriptions and analysis, see the cell after the test driver."
   ]
  },
  {
   "cell_type": "code",
   "execution_count": 2,
   "metadata": {
    "collapsed": false,
    "slideshow": {
     "slide_type": "fragment"
    }
   },
   "outputs": [
    {
     "name": "stdout",
     "output_type": "stream",
     "text": [
      "Correct? True\n"
     ]
    }
   ],
   "source": [
    "# main\n",
    "import numpy as np\n",
    "\n",
    "# different random seed\n",
    "np.random.seed()\n",
    "\n",
    "# generate numbers\n",
    "N = 1000\n",
    "# the TA will vary the input array size and content during testing\n",
    "values = np.random.random([N])\n",
    "\n",
    "sort(values)\n",
    "\n",
    "correct = True\n",
    "for index in range(1, len(values)):\n",
    "    if(values[index-1] > values[index]):\n",
    "        correct = False\n",
    "        \n",
    "print('Correct? ' + str(correct))"
   ]
  },
  {
   "cell_type": "markdown",
   "metadata": {
    "slideshow": {
     "slide_type": "fragment"
    }
   },
   "source": [
    "## Description of Sorting Algorithm\n",
    "I use bubble sort to implement the sorting algorithm using Python. The idea is just continually scan the input array and swap adjacent values if there are out of order until the whole list is in order. After the i-th iteration in the outer loop, the i-th largest number is positioned in the correct place. Therefore, after N-1 iterations in total, the whole array will be sorted.\n",
    "\n",
    "## Analysis of Time Complexity\n",
    "It is obvious that bubble sort requires two embedded loops. For the outer loop, time complexity is $O(N)$ and the same holds for the inner loop. Thus, the overall time complexity for bubble sort is $O(N^2)$. It will be a bit slower than quick sort or merge sort, but the running time is still acceptable."
   ]
  },
  {
   "cell_type": "markdown",
   "metadata": {
    "slideshow": {
     "slide_type": "slide"
    }
   },
   "source": [
    "# Line fitting\n",
    "<img src=\"./images/01_04.png\" width=50%>\n",
    "\n",
    "Given a set of data points $\\left(\\mathbf{X}, \\mathbf{Y}\\right)$, fit a model curve to describe their relationship.\n",
    "\n",
    "This is actually a regression problem, but we have all seen this in prior math/coding classes to serve as a good example for machine learning.\n",
    "\n",
    "Recall $\\mathbf{Y} = f(\\mathbf{X}, \\Theta)$ is our model.\n",
    "\n",
    "For 2D linear curve fitting, the model is a straight line:\n",
    "$y = w_1 x + w_0$, so the parameters $\\Theta = \\{w_0, w_1\\}$.\n",
    "\n",
    "The loss function is $L\\left(\\mathbf{X}, \\mathbf{T}, \\mathbf{Y}\\right) = \\sum_i \\left( T^{(i)} - Y^{(i)}\\right)^2 = \\sum_i \\left( T^{(i)} - w_1 X^{(i)} - w_0 \\right)^2$.\n",
    "<br>\n",
    "($\\mathbf{X}$ is a matrix/tensor, and each data sample is a row. We denote the ith sample/row as $\\mathbf{X}^{(i)}$.)\n",
    "\n",
    "For this simple example we don't care about regularization, thus $P(\\Theta) = 0$.\n",
    "\n",
    "The goal is to optimize $\\Theta = \\{w_0, w_1 \\}$ with given $\\left(\\mathbf{X}, \\mathbf{Y}\\right)$ to minimize $L$.\n",
    "For simple cases like this, we can directly optimize via calculus:\n",
    "$$\n",
    "\\begin{align}\n",
    "\\frac{\\partial L}{\\partial w_0} & = 0 \\\\\n",
    "\\frac{\\partial L}{\\partial w_1} & = 0\n",
    "\\end{align}\n",
    "$$\n"
   ]
  },
  {
   "cell_type": "markdown",
   "metadata": {
    "slideshow": {
     "slide_type": "fragment"
    }
   },
   "source": [
    "## Math (30 points)\n",
    "\n",
    "Write down explicit formulas for $w_0$ and $w_1$ in terms of $\\mathbf{X}$ and $\\mathbf{T}$.\n",
    "\n",
    "<h3>Solution:</h3>\n",
    "Solve the system of equations:\n",
    "$$\n",
    "\\begin{align}\n",
    "& \\frac{\\partial L}{\\partial w_0} = -2\\sum_i \\left( T^{(i)} - w_1 X^{(i)} - w_0 \\right) = 0 \\\\\n",
    "& \\frac{\\partial L}{\\partial w_1} = -2\\sum_i \\left( T^{(i)} - w_1 X^{(i)} - w_0 \\right) X^{(i)} = 0\n",
    "\\end{align}\n",
    "$$\n",
    "Equivalently, we have the following two equations.(n is the number of points in the data set)\n",
    "$$\n",
    "\\begin{align}\n",
    "& \\sum_i T^{(i)} - w_1 \\sum_i X^{(i)} - n w_0 = 0 \\\\\n",
    "& \\sum_i (X^{(i)} T^{(i)}) - w_1 \\sum_i (X^{(i)})^2 - w_0 \\sum_i X^{(i)} = 0\n",
    "\\end{align}\n",
    "$$\n",
    "From the first equation, we get:\n",
    "$$\n",
    "w_0 = \\frac{\\sum_i T^{(i)} - w_1 \\sum_i X^{(i)}}{n}\n",
    "$$\n",
    "Substitute this into the second equation and simplify, we get:\n",
    "$$\n",
    "\\begin{align}\n",
    "\\sum_i X^{(i)} \\sum_i T^{(i)} - w_1 (\\sum_i X^{(i)})^2 + n w_1 \\sum_i (X^{(i)})^2 = n \\sum_i (X^{(i)} T^{(i)})\n",
    "\\end{align}\n",
    "$$\n",
    "Therefore, we can solve for $w_1$:\n",
    "\\begin{align}\n",
    "w_1 = \\frac{n \\sum (X T) - \\sum X \\sum T}{n \\sum X^2 - (\\sum X)^2}\n",
    "\\end{align}\n",
    "And substitute back to solve for $w_0$:\n",
    "\\begin{align}\n",
    "w_0 = \\frac{\\sum T}{n} - \\frac{n \\sum (X T) \\sum X - (\\sum X)^2 \\sum T}{n^2 \\sum X^2 - n (\\sum X)^2}\n",
    "\\end{align}"
   ]
  },
  {
   "cell_type": "markdown",
   "metadata": {
    "slideshow": {
     "slide_type": "fragment"
    }
   },
   "source": [
    "## Code (50 points)"
   ]
  },
  {
   "cell_type": "code",
   "execution_count": 13,
   "metadata": {
    "collapsed": true,
    "slideshow": {
     "slide_type": "fragment"
    }
   },
   "outputs": [],
   "source": [
    "# line model\n",
    "import numpy as np\n",
    "\n",
    "class Line(object):\n",
    "    def __init__(self, w0, w1):\n",
    "        self.w0 = w0\n",
    "        self.w1 = w1\n",
    "        \n",
    "    def predict(self, x, noise=0):\n",
    "        return (x*self.w1 + self.w0 + noise*np.random.normal())\n",
    "\n",
    "    # Input: data, a 2D array with each (x, t) pair on a row\n",
    "    # Return: w0 and w1, the intercept and slope of the fitted line\n",
    "    def learn(self, data):\n",
    "        # replace the default code below which simply does random computation \n",
    "        n = len(data[:,0]) # n is the size of the data set\n",
    "        x_sum = np.sum(data[:,0]) # sum of all x-values in the data set\n",
    "        t_sum = np.sum(data[:,1]) # sum of all y-values(target values) in the data set\n",
    "        x_square_sum = np.sum(data[:,0]**2) # sum of all x-square-values in the data set\n",
    "        xt_sum = np.sum(data[:,0]*data[:,1]) # sum of all xy-values in the data set\n",
    "        w1 = (n*xt_sum - x_sum*t_sum) / (n*x_square_sum - x_sum**2)\n",
    "        w0 = (t_sum - w1*x_sum) / n\n",
    "        \n",
    "        return w0, w1"
   ]
  },
  {
   "cell_type": "code",
   "execution_count": 14,
   "metadata": {
    "collapsed": false,
    "slideshow": {
     "slide_type": "fragment"
    }
   },
   "outputs": [
    {
     "name": "stdout",
     "output_type": "stream",
     "text": [
      "truth:   0.2785146554659712 -0.6410431508228549\n",
      "predict: 0.278514655466 -0.641043150823\n"
     ]
    }
   ],
   "source": [
    "# test\n",
    "np.random.seed()\n",
    "\n",
    "w0 = np.asscalar(np.random.random(1))*2-1\n",
    "w1 = np.asscalar(np.random.random(1))*2-1\n",
    "\n",
    "line = Line(w0, w1)\n",
    "\n",
    "N = 20\n",
    "noise = 0.00\n",
    "X = np.random.random([N])\n",
    "T = []\n",
    "for x in X:\n",
    "    T.append(np.sum(line.predict(x, noise)))\n",
    "T = np.array(T)    \n",
    "\n",
    "#data = np.vstack((X, T)).transpose()\n",
    "data = np.array([X, T]).transpose()\n",
    "\n",
    "w0_fit, w1_fit = line.learn(data)\n",
    "\n",
    "line_fit = Line(w0_fit, w1_fit)\n",
    "\n",
    "print('truth:   ' + str(w0) + ' ' + str(w1))\n",
    "print('predict: ' + str(w0_fit) + ' ' + str(w1_fit))"
   ]
  },
  {
   "cell_type": "code",
   "execution_count": 15,
   "metadata": {
    "collapsed": false,
    "slideshow": {
     "slide_type": "fragment"
    }
   },
   "outputs": [
    {
     "data": {
      "image/png": "[encoded data removed]",
      "text/plain": [
       "<matplotlib.figure.Figure at 0x249486922e8>"
      ]
     },
     "metadata": {},
     "output_type": "display_data"
    }
   ],
   "source": [
    "# plot\n",
    "%matplotlib inline\n",
    "import matplotlib.pyplot as plt\n",
    "\n",
    "plt.scatter(data[:, 0], data[:, 1], color='black', marker='o')\n",
    "\n",
    "X_endpoints = [0, 1]\n",
    "Y_truth, Y_fit = [], []\n",
    "for x in X_endpoints:\n",
    "    Y_truth.append(line.predict(x))\n",
    "    Y_fit.append(line_fit.predict(x))\n",
    "    \n",
    "plt.plot(X_endpoints, Y_truth, color='blue', label='truth')\n",
    "plt.plot(X_endpoints, Y_fit, color='red', label='predict')\n",
    "\n",
    "plt.legend(loc='best')\n",
    "plt.tight_layout()\n",
    "plt.show()"
   ]
  }
 ],
 "metadata": {
  "anaconda-cloud": {},
  "celltoolbar": "Slideshow",
  "kernelspec": {
   "display_name": "Python [Root]",
   "language": "python",
   "name": "Python [Root]"
  },
  "language_info": {
   "codemirror_mode": {
    "name": "ipython",
    "version": 3
   },
   "file_extension": ".py",
   "mimetype": "text/x-python",
   "name": "python",
   "nbconvert_exporter": "python",
   "pygments_lexer": "ipython3",
   "version": "3.5.2"
  }
 },
 "nbformat": 4,
 "nbformat_minor": 0
}
